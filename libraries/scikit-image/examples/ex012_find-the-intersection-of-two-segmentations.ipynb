{
 "cells": [
  {
   "attachments": {},
   "cell_type": "markdown",
   "metadata": {},
   "source": [
    "### Find the intersection of two segmentaitons\n",
    "[link to example](https://scikit-image.org/docs/stable/auto_examples/segmentation/plot_join_segmentations.html#sphx-glr-auto-examples-segmentation-plot-join-segmentations-py)"
   ]
  },
  {
   "cell_type": "code",
   "execution_count": 1,
   "metadata": {},
   "outputs": [],
   "source": [
    "import numpy as np\n",
    "import matplotlib.pyplot as plt\n",
    "import skimage"
   ]
  },
  {
   "cell_type": "code",
   "execution_count": 2,
   "metadata": {},
   "outputs": [
    {
     "ename": "NameError",
     "evalue": "name 'data' is not defined",
     "output_type": "error",
     "traceback": [
      "\u001b[1;31m---------------------------------------------------------------------------\u001b[0m",
      "\u001b[1;31mNameError\u001b[0m                                 Traceback (most recent call last)",
      "\u001b[1;32m~\\AppData\\Local\\Temp\\ipykernel_4048\\3063418558.py\u001b[0m in \u001b[0;36m<module>\u001b[1;34m\u001b[0m\n\u001b[1;32m----> 1\u001b[1;33m \u001b[0mcoins\u001b[0m \u001b[1;33m=\u001b[0m \u001b[0mdata\u001b[0m\u001b[1;33m.\u001b[0m\u001b[0mcoins\u001b[0m\u001b[1;33m(\u001b[0m\u001b[1;33m)\u001b[0m\u001b[1;33m\u001b[0m\u001b[1;33m\u001b[0m\u001b[0m\n\u001b[0m\u001b[0;32m      2\u001b[0m \u001b[1;33m\u001b[0m\u001b[0m\n\u001b[0;32m      3\u001b[0m \u001b[1;31m# Make segmentation using edge-detection and watershed.\u001b[0m\u001b[1;33m\u001b[0m\u001b[1;33m\u001b[0m\u001b[0m\n\u001b[0;32m      4\u001b[0m \u001b[0medges\u001b[0m \u001b[1;33m=\u001b[0m \u001b[0mskimage\u001b[0m\u001b[1;33m.\u001b[0m\u001b[0mfilters\u001b[0m\u001b[1;33m.\u001b[0m\u001b[0msobel\u001b[0m\u001b[1;33m(\u001b[0m\u001b[0mcoins\u001b[0m\u001b[1;33m)\u001b[0m\u001b[1;33m\u001b[0m\u001b[1;33m\u001b[0m\u001b[0m\n\u001b[0;32m      5\u001b[0m \u001b[1;33m\u001b[0m\u001b[0m\n",
      "\u001b[1;31mNameError\u001b[0m: name 'data' is not defined"
     ]
    }
   ],
   "source": [
    "coins = data.coins()\n",
    "\n",
    "# Make segmentation using edge-detection and watershed.\n",
    "edges = skimage.filters.sobel(coins)\n",
    "\n",
    "# Identify some background and foreground pixels from the intensity values.\n",
    "# These pixels are used as seeds for watershed.\n",
    "markers = np.zeros_like(coins)\n",
    "foreground, background = 1, 2\n",
    "markers[coins < 30.0] = background\n",
    "markers[coins > 150.0] = foreground\n",
    "\n",
    "ws = skimage.segmentation.watershed(edges, markers)\n",
    "seg_1 = skimage.measure.label(ws == foreground)\n",
    "\n",
    "# Make segmentation using SLIC superpixels.\n",
    "seg_2 = skimage.segmentation.slic(\n",
    "    coins, n_segments=117, max_num_iter=160, sigma=1, compactness=0.75, channel_axis=None, start_label=0\n",
    ")\n",
    "\n",
    "# Combine the two.\n",
    "segj = skimage.segmentation.join_segmentations(seg_1, seg_2)\n",
    "\n",
    "# Show the segmentations.\n",
    "fig, axes = plt.subplots(ncols=2, nrows=2, figsize=(9, 5), sharex=True, sharey=True)\n",
    "ax = axes.ravel()\n",
    "ax[0].imshow(coins, cmap='gray')\n",
    "ax[0].set_title(\"Image\")\n",
    "\n",
    "color_1 = skimage.color.label2rgb(seg_1, image=coins, image_alpha=0.5, bg_label=-1)\n",
    "ax[1].imshow(color_1)\n",
    "ax[1].set_title(\"Sobel+Watershed\")\n",
    "\n",
    "color_2 = skimage.color.label2rgb(seg_2, image=coins, image_alpha=0.5, bg_label=-1)\n",
    "ax[2].imshow(color_2)\n",
    "ax[2].set_title(\"SLIC superpixels\")\n",
    "\n",
    "color_3 = skimage.color.label2rgb(segj, image=coins, image_alpha=0.5, bg_label=-1)\n",
    "ax[3].imshow(color_3)\n",
    "ax[3].set_title(\"Join\")\n",
    "\n",
    "for a in ax:\n",
    "    a.axis('off')\n",
    "fig.tight_layout()\n",
    "plt.show()"
   ]
  },
  {
   "attachments": {},
   "cell_type": "markdown",
   "metadata": {},
   "source": [
    "When segmenting an image, you may want to combine multiple alternative segmentations.\n",
    "The `skimage.segmentation.join_segmentations()` function computes the join of two segmentations, in which a pixel is placed in the same segment if and only if it is in the same segment in *both* segmentations."
   ]
  }
 ],
 "metadata": {
  "kernelspec": {
   "display_name": "base",
   "language": "python",
   "name": "python3"
  },
  "language_info": {
   "codemirror_mode": {
    "name": "ipython",
    "version": 3
   },
   "file_extension": ".py",
   "mimetype": "text/x-python",
   "name": "python",
   "nbconvert_exporter": "python",
   "pygments_lexer": "ipython3",
   "version": "3.9.13"
  },
  "orig_nbformat": 4,
  "vscode": {
   "interpreter": {
    "hash": "afc865ef281d4842b75ecb3cc73d7bc75f716d72a8401edd1b8223f0e600bece"
   }
  }
 },
 "nbformat": 4,
 "nbformat_minor": 2
}
