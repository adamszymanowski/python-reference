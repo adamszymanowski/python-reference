{
 "cells": [
  {
   "attachments": {},
   "cell_type": "markdown",
   "metadata": {},
   "source": [
    "### BRIEF binary descriptor\n",
    "[link to example](https://scikit-image.org/docs/stable/auto_examples/features_detection/plot_brief.html#sphx-glr-auto-examples-features-detection-plot-brief-py)"
   ]
  },
  {
   "cell_type": "code",
   "execution_count": 2,
   "metadata": {},
   "outputs": [
    {
     "name": "stderr",
     "output_type": "stream",
     "text": [
      "c:\\Users\\AdamSz\\anaconda3\\lib\\site-packages\\paramiko\\transport.py:219: CryptographyDeprecationWarning: Blowfish has been deprecated\n",
      "  \"class\": algorithms.Blowfish,\n"
     ]
    },
    {
     "ename": "NameError",
     "evalue": "name 'transform' is not defined",
     "output_type": "error",
     "traceback": [
      "\u001b[1;31m---------------------------------------------------------------------------\u001b[0m",
      "\u001b[1;31mNameError\u001b[0m                                 Traceback (most recent call last)",
      "\u001b[1;32m~\\AppData\\Local\\Temp\\ipykernel_13220\\857518174.py\u001b[0m in \u001b[0;36m<module>\u001b[1;34m\u001b[0m\n\u001b[0;32m      8\u001b[0m \u001b[1;33m\u001b[0m\u001b[0m\n\u001b[0;32m      9\u001b[0m \u001b[0mimg_1\u001b[0m \u001b[1;33m=\u001b[0m \u001b[0mrgb2gray\u001b[0m\u001b[1;33m(\u001b[0m\u001b[0mdata\u001b[0m\u001b[1;33m.\u001b[0m\u001b[0mastronaut\u001b[0m\u001b[1;33m(\u001b[0m\u001b[1;33m)\u001b[0m\u001b[1;33m)\u001b[0m\u001b[1;33m\u001b[0m\u001b[1;33m\u001b[0m\u001b[0m\n\u001b[1;32m---> 10\u001b[1;33m \u001b[0mtform\u001b[0m \u001b[1;33m=\u001b[0m \u001b[0mtransform\u001b[0m\u001b[1;33m.\u001b[0m\u001b[0mAffineTransform\u001b[0m\u001b[1;33m(\u001b[0m\u001b[0mscale\u001b[0m\u001b[1;33m=\u001b[0m\u001b[1;33m(\u001b[0m\u001b[1;36m1.2\u001b[0m\u001b[1;33m,\u001b[0m \u001b[1;36m1.2\u001b[0m\u001b[1;33m)\u001b[0m\u001b[1;33m,\u001b[0m \u001b[0mtranslation\u001b[0m\u001b[1;33m=\u001b[0m\u001b[1;33m(\u001b[0m\u001b[1;36m0\u001b[0m\u001b[1;33m,\u001b[0m \u001b[1;33m-\u001b[0m\u001b[1;36m100\u001b[0m\u001b[1;33m)\u001b[0m\u001b[1;33m)\u001b[0m\u001b[1;33m\u001b[0m\u001b[1;33m\u001b[0m\u001b[0m\n\u001b[0m\u001b[0;32m     11\u001b[0m \u001b[0mimg_2\u001b[0m \u001b[1;33m=\u001b[0m \u001b[0mtransform\u001b[0m\u001b[1;33m.\u001b[0m\u001b[0mwarp\u001b[0m\u001b[1;33m(\u001b[0m\u001b[0mimg_1\u001b[0m\u001b[1;33m,\u001b[0m \u001b[0mtform\u001b[0m\u001b[1;33m)\u001b[0m\u001b[1;33m\u001b[0m\u001b[1;33m\u001b[0m\u001b[0m\n\u001b[0;32m     12\u001b[0m \u001b[0mimg_3\u001b[0m \u001b[1;33m=\u001b[0m \u001b[0mtransform\u001b[0m\u001b[1;33m.\u001b[0m\u001b[0mrotate\u001b[0m\u001b[1;33m(\u001b[0m\u001b[0mimg_1\u001b[0m\u001b[1;33m,\u001b[0m \u001b[1;36m25\u001b[0m\u001b[1;33m)\u001b[0m\u001b[1;33m\u001b[0m\u001b[1;33m\u001b[0m\u001b[0m\n",
      "\u001b[1;31mNameError\u001b[0m: name 'transform' is not defined"
     ]
    }
   ],
   "source": [
    "from skimage import data, transform\n",
    "from skimage.feature import (\n",
    "    match_descriptors, corner_peaks, corner_harris,\n",
    "    plot_matches, BRIEF\n",
    ")\n",
    "from skimage.color import rgb2gray\n",
    "import matplotlib.pyplot as plt\n",
    "\n",
    "img_1 = rgb2gray(data.astronaut())\n",
    "tform = transform.AffineTransform(scale=(1.2, 1.2), translation=(0, -100))\n",
    "img_2 = transform.warp(img_1, tform)\n",
    "img_3 = transform.rotate(img_1, 25)\n",
    "\n",
    "keypoints_1 = corner_peaks(conrner_harris(img_1), min_distance=5, threshold_rel=0.1)\n",
    "keypoints_2 = corner_peaks(conrner_harris(img_2), min_distance=5, threshold_rel=0.1)\n",
    "keypoints_3 = corner_peaks(conrner_harris(img_3), min_distance=5, threshold_rel=0.1)\n",
    "\n",
    "extractor = BRIEF()\n",
    "\n",
    "extractor.extract(img_1, keypoints_1)\n",
    "keypoints_1 = keypoints_1[extractor.mask]\n",
    "descriptors_1 = extractor.descriptors\n",
    "\n",
    "extractor.extract(img_2, keypoints_2)\n",
    "keypoints_2 = keypoints_2[extractor.mask]\n",
    "descriptors_2 = extractor.descriptors\n",
    "\n",
    "extractor.extract(img_3, keypoints_3)\n",
    "keypoints_3 = keypoints_3[extractor.mask]\n",
    "descriptors_3 = extractor.descriptors\n",
    "\n",
    "matches_1_to_2 = match_descriptors(descriptors_1, descriptors_2, cross_check=True)\n",
    "matches_1_to_3 = match_descriptors(descriptors_1, descriptors_3, cross_check=True)\n",
    "\n",
    "fig, ax = plt.subplots(nrows=2, ncols=1)\n",
    "plt.gray()\n",
    "\n",
    "plot_matches(ax[0], img_1, img_2, keypoints_1, keypoints_2, matches_1_to_2)\n",
    "ax[0].axis('off')\n",
    "ax[0].set_title(\"Original Image vs. Transformed Image\")\n",
    "\n",
    "plot_matches(ax[1], img_1, img_3, keypoints_1, keypoints_3, matches_1_to_3)\n",
    "ax[1].axis('off')\n",
    "ax[1].set_title(\"Original Image vs. Transformed Image\")\n",
    "\n",
    "plt.show()"
   ]
  }
 ],
 "metadata": {
  "kernelspec": {
   "display_name": "base",
   "language": "python",
   "name": "python3"
  },
  "language_info": {
   "codemirror_mode": {
    "name": "ipython",
    "version": 3
   },
   "file_extension": ".py",
   "mimetype": "text/x-python",
   "name": "python",
   "nbconvert_exporter": "python",
   "pygments_lexer": "ipython3",
   "version": "3.9.13"
  },
  "orig_nbformat": 4,
  "vscode": {
   "interpreter": {
    "hash": "afc865ef281d4842b75ecb3cc73d7bc75f716d72a8401edd1b8223f0e600bece"
   }
  }
 },
 "nbformat": 4,
 "nbformat_minor": 2
}
